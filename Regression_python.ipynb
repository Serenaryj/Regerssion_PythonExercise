{
 "cells": [
  {
   "cell_type": "markdown",
   "metadata": {},
   "source": [
    "# Python Excercise to Run A Regression Model\n",
    "#Created on Sun Nov 26, 2017 by Author: Serena Ren"
   ]
  },
  {
   "cell_type": "code",
   "execution_count": 1,
   "metadata": {
    "collapsed": true
   },
   "outputs": [],
   "source": [
    "import pandas as pd\n",
    "import numpy as np\n",
    "import matplotlib.pyplot as plt\n",
    "import statsmodels.formula.api as smf\n",
    "import os "
   ]
  },
  {
   "cell_type": "markdown",
   "metadata": {},
   "source": [
    "1) Read the excel sheets and store them as pandas dataframes."
   ]
  },
  {
   "cell_type": "code",
   "execution_count": 3,
   "metadata": {
    "collapsed": true
   },
   "outputs": [],
   "source": [
    "#Set working directory\n",
    "path = 'C:\\\\Users\\\\Serena\\\\Desktop\\\\Projects\\\\PythonExercise Regression\\\\PythonExercise'    #Need to update path accordingly\n",
    "os.chdir(path)\n",
    "#Read excel sheets to pandas dataframes\n",
    "xlsx_file = pd.ExcelFile('InputData.xlsx')\n",
    "Geogs = xlsx_file.parse('Geogs')\n",
    "Products = xlsx_file.parse('Products')\n",
    "Prodhier =xlsx_file.parse('Prodhier')\n",
    "Geoghier = xlsx_file.parse('Geoghier')\n",
    "Data = xlsx_file.parse('Data')\n",
    "MediaData = xlsx_file.parse('MediaData')"
   ]
  },
  {
   "cell_type": "markdown",
   "metadata": {},
   "source": [
    "2) Print top 5 rows of each pandas dataframe into a csv file."
   ]
  },
  {
   "cell_type": "code",
   "execution_count": 4,
   "metadata": {
    "collapsed": true
   },
   "outputs": [],
   "source": [
    "Geogs.head().to_csv('Geogs_top5.csv', index=False)\n",
    "Products.head().to_csv('Products_top5.csv', index=False)\n",
    "Prodhier.head().to_csv('Prodhier_top5.csv', index=False)\n",
    "Geoghier.head().to_csv('Geoghier_top5.csv', index=False)\n",
    "Data.head().to_csv('Data_top5.csv', index=False)\n",
    "MediaData.head().to_csv('MediaData_top5.csv', index=False)"
   ]
  },
  {
   "cell_type": "markdown",
   "metadata": {},
   "source": [
    "Note: My understanding of the question is to create a .csv file for each dataframe. If want to write to a single .csv file,\n",
    "please refer to the codes in the next cell."
   ]
  },
  {
   "cell_type": "markdown",
   "metadata": {},
   "source": [
    "3) Identify number of rows, columns, column names and datatypes in each dataframe. Save them to a .csv file."
   ]
  },
  {
   "cell_type": "code",
   "execution_count": 5,
   "metadata": {
    "collapsed": true
   },
   "outputs": [],
   "source": [
    "dfs= [Geogs, Products,Prodhier, Geoghier, Data, MediaData]             # Define a list of dataframes\n",
    "df_names = ['Geogs', 'Products', 'Prodhier', 'Geoghier','Data', 'MediaData']       # Define a list of dataframe names\n",
    "# Write out to a  .csv file\n",
    "with open('Summaries of Dataframes.csv', 'w') as file:\n",
    "    for i in range(len(dfs)):\n",
    "        file.write('Dataframe ' + df_names[i] + '\\n')\n",
    "        file.write('The number of rows is: ' + str(len(dfs[i])) +'\\n')\n",
    "        file.write('The number of columns is: '+ str(len(dfs[i].columns)) +'\\n')\n",
    "        file.write('The Datatype of Dataframe ' + df_names[i] + ' Columns are: \\n')\n",
    "        for j in range(len(dfs[i].columns)):\n",
    "            file.write(str(dfs[i].columns[j]) + '    ' + str(type(dfs[i].columns[j])) + '\\n')\n",
    "        file.write('\\n')"
   ]
  },
  {
   "cell_type": "markdown",
   "metadata": {},
   "source": [
    "4) Run correlation on numeric columns and save as a .csv file."
   ]
  },
  {
   "cell_type": "code",
   "execution_count": 6,
   "metadata": {},
   "outputs": [],
   "source": [
    "Data_merged = pd.merge(Data, MediaData, on ='WEEK')     # Merge two dataframes on key='WEEK',as both Data and MediaData are in market=1\n",
    "df=Data_merged.select_dtypes(exclude=['object','datetime64[ns]'])      # Exclude all non-numeric variables\n",
    "correlation = df.corr()                                              # Calculate correlation table\n",
    "correlation.to_csv('Correlation Table.csv')                         # save to a .csv file\n",
    "#correlation                            # Uncomment this line to view correlation"
   ]
  },
  {
   "cell_type": "markdown",
   "metadata": {},
   "source": [
    "Note: Without knowing the meaning of each variable, I include all numeric variables (int and float) in Data and MediaData and get a 113 by 113 table. Even though there are many 'NaN' in the dataframe, the correlation table leaves out missing values during calculation. "
   ]
  },
  {
   "cell_type": "markdown",
   "metadata": {},
   "source": [
    "5) Create a summary table of the modeled dataframe that contains sum, mean, median, range, min, max, nmiss, count"
   ]
  },
  {
   "cell_type": "code",
   "execution_count": 7,
   "metadata": {},
   "outputs": [
    {
     "data": {
      "text/html": [
       "<div>\n",
       "<style>\n",
       "    .dataframe thead tr:only-child th {\n",
       "        text-align: right;\n",
       "    }\n",
       "\n",
       "    .dataframe thead th {\n",
       "        text-align: left;\n",
       "    }\n",
       "\n",
       "    .dataframe tbody tr th {\n",
       "        vertical-align: top;\n",
       "    }\n",
       "</style>\n",
       "<table border=\"1\" class=\"dataframe\">\n",
       "  <thead>\n",
       "    <tr style=\"text-align: right;\">\n",
       "      <th></th>\n",
       "      <th>UNI</th>\n",
       "      <th>VOL</th>\n",
       "      <th>DOL</th>\n",
       "      <th>PA</th>\n",
       "      <th>BVOL</th>\n",
       "      <th>VELOCITY</th>\n",
       "      <th>APPBX</th>\n",
       "      <th>ADWOFPBX</th>\n",
       "      <th>AFDPBX</th>\n",
       "      <th>AFWODPBX</th>\n",
       "      <th>...</th>\n",
       "      <th>DFVM9</th>\n",
       "      <th>OFVM3</th>\n",
       "      <th>YFVM6</th>\n",
       "      <th>DFVM10</th>\n",
       "      <th>DFVM18</th>\n",
       "      <th>DFVM20</th>\n",
       "      <th>SFVM10</th>\n",
       "      <th>SFVM19</th>\n",
       "      <th>TFVM21</th>\n",
       "      <th>SFVM11</th>\n",
       "    </tr>\n",
       "  </thead>\n",
       "  <tbody>\n",
       "    <tr>\n",
       "      <th>count</th>\n",
       "      <td>3.060000e+02</td>\n",
       "      <td>1.294200e+04</td>\n",
       "      <td>3.060000e+02</td>\n",
       "      <td>3060.000000</td>\n",
       "      <td>1.294200e+04</td>\n",
       "      <td>12942.0</td>\n",
       "      <td>306.0</td>\n",
       "      <td>306.0</td>\n",
       "      <td>306.0</td>\n",
       "      <td>306.0</td>\n",
       "      <td>...</td>\n",
       "      <td>12942.000000</td>\n",
       "      <td>12942.000000</td>\n",
       "      <td>12942.000000</td>\n",
       "      <td>12942.000000</td>\n",
       "      <td>12942.000000</td>\n",
       "      <td>12942.000000</td>\n",
       "      <td>12942.000000</td>\n",
       "      <td>12942.000000</td>\n",
       "      <td>12942.000000</td>\n",
       "      <td>12942.000000</td>\n",
       "    </tr>\n",
       "    <tr>\n",
       "      <th>mean</th>\n",
       "      <td>5.727865e+04</td>\n",
       "      <td>2.125956e+03</td>\n",
       "      <td>5.727865e+04</td>\n",
       "      <td>0.784076</td>\n",
       "      <td>5.734591e+02</td>\n",
       "      <td>1.0</td>\n",
       "      <td>0.0</td>\n",
       "      <td>0.0</td>\n",
       "      <td>0.0</td>\n",
       "      <td>0.0</td>\n",
       "      <td>...</td>\n",
       "      <td>0.098642</td>\n",
       "      <td>0.812691</td>\n",
       "      <td>0.143658</td>\n",
       "      <td>0.059221</td>\n",
       "      <td>0.764514</td>\n",
       "      <td>0.678092</td>\n",
       "      <td>0.922805</td>\n",
       "      <td>1.055802</td>\n",
       "      <td>4.860918</td>\n",
       "      <td>0.207879</td>\n",
       "    </tr>\n",
       "    <tr>\n",
       "      <th>std</th>\n",
       "      <td>3.518760e+04</td>\n",
       "      <td>1.032223e+04</td>\n",
       "      <td>3.518760e+04</td>\n",
       "      <td>0.203692</td>\n",
       "      <td>1.448925e+03</td>\n",
       "      <td>0.0</td>\n",
       "      <td>0.0</td>\n",
       "      <td>0.0</td>\n",
       "      <td>0.0</td>\n",
       "      <td>0.0</td>\n",
       "      <td>...</td>\n",
       "      <td>0.772217</td>\n",
       "      <td>7.388812</td>\n",
       "      <td>0.738861</td>\n",
       "      <td>0.334333</td>\n",
       "      <td>4.028209</td>\n",
       "      <td>3.572851</td>\n",
       "      <td>5.216165</td>\n",
       "      <td>5.695232</td>\n",
       "      <td>26.870270</td>\n",
       "      <td>1.784582</td>\n",
       "    </tr>\n",
       "    <tr>\n",
       "      <th>min</th>\n",
       "      <td>2.567599e+03</td>\n",
       "      <td>0.000000e+00</td>\n",
       "      <td>2.567599e+03</td>\n",
       "      <td>0.123659</td>\n",
       "      <td>0.000000e+00</td>\n",
       "      <td>1.0</td>\n",
       "      <td>0.0</td>\n",
       "      <td>0.0</td>\n",
       "      <td>0.0</td>\n",
       "      <td>0.0</td>\n",
       "      <td>...</td>\n",
       "      <td>0.000000</td>\n",
       "      <td>0.000000</td>\n",
       "      <td>0.000000</td>\n",
       "      <td>0.000000</td>\n",
       "      <td>0.000000</td>\n",
       "      <td>0.000000</td>\n",
       "      <td>0.000000</td>\n",
       "      <td>0.000000</td>\n",
       "      <td>0.000000</td>\n",
       "      <td>0.000000</td>\n",
       "    </tr>\n",
       "    <tr>\n",
       "      <th>Median</th>\n",
       "      <td>6.249754e+04</td>\n",
       "      <td>0.000000e+00</td>\n",
       "      <td>6.249754e+04</td>\n",
       "      <td>0.834382</td>\n",
       "      <td>0.000000e+00</td>\n",
       "      <td>1.0</td>\n",
       "      <td>0.0</td>\n",
       "      <td>0.0</td>\n",
       "      <td>0.0</td>\n",
       "      <td>0.0</td>\n",
       "      <td>...</td>\n",
       "      <td>0.000000</td>\n",
       "      <td>0.000000</td>\n",
       "      <td>0.000000</td>\n",
       "      <td>0.000000</td>\n",
       "      <td>0.000000</td>\n",
       "      <td>0.000000</td>\n",
       "      <td>0.000000</td>\n",
       "      <td>0.000000</td>\n",
       "      <td>0.000000</td>\n",
       "      <td>0.000000</td>\n",
       "    </tr>\n",
       "    <tr>\n",
       "      <th>max</th>\n",
       "      <td>1.383610e+05</td>\n",
       "      <td>1.383610e+05</td>\n",
       "      <td>1.383610e+05</td>\n",
       "      <td>1.000000</td>\n",
       "      <td>1.268668e+04</td>\n",
       "      <td>1.0</td>\n",
       "      <td>0.0</td>\n",
       "      <td>0.0</td>\n",
       "      <td>0.0</td>\n",
       "      <td>0.0</td>\n",
       "      <td>...</td>\n",
       "      <td>7.798175</td>\n",
       "      <td>79.020000</td>\n",
       "      <td>6.413937</td>\n",
       "      <td>2.341628</td>\n",
       "      <td>21.987426</td>\n",
       "      <td>19.501914</td>\n",
       "      <td>44.750634</td>\n",
       "      <td>37.836305</td>\n",
       "      <td>199.000000</td>\n",
       "      <td>17.891509</td>\n",
       "    </tr>\n",
       "    <tr>\n",
       "      <th>range</th>\n",
       "      <td>1.357934e+05</td>\n",
       "      <td>1.383610e+05</td>\n",
       "      <td>1.357934e+05</td>\n",
       "      <td>0.876341</td>\n",
       "      <td>1.268668e+04</td>\n",
       "      <td>0.0</td>\n",
       "      <td>0.0</td>\n",
       "      <td>0.0</td>\n",
       "      <td>0.0</td>\n",
       "      <td>0.0</td>\n",
       "      <td>...</td>\n",
       "      <td>7.798175</td>\n",
       "      <td>79.020000</td>\n",
       "      <td>6.413937</td>\n",
       "      <td>2.341628</td>\n",
       "      <td>21.987426</td>\n",
       "      <td>19.501914</td>\n",
       "      <td>44.750634</td>\n",
       "      <td>37.836305</td>\n",
       "      <td>199.000000</td>\n",
       "      <td>17.891509</td>\n",
       "    </tr>\n",
       "    <tr>\n",
       "      <th>sum</th>\n",
       "      <td>1.752727e+07</td>\n",
       "      <td>2.751412e+07</td>\n",
       "      <td>1.752727e+07</td>\n",
       "      <td>2399.271553</td>\n",
       "      <td>7.421708e+06</td>\n",
       "      <td>12942.0</td>\n",
       "      <td>0.0</td>\n",
       "      <td>0.0</td>\n",
       "      <td>0.0</td>\n",
       "      <td>0.0</td>\n",
       "      <td>...</td>\n",
       "      <td>1276.627133</td>\n",
       "      <td>10517.850000</td>\n",
       "      <td>1859.225784</td>\n",
       "      <td>766.437374</td>\n",
       "      <td>9894.341578</td>\n",
       "      <td>8775.861300</td>\n",
       "      <td>11942.944733</td>\n",
       "      <td>13664.190050</td>\n",
       "      <td>62910.000000</td>\n",
       "      <td>2690.375408</td>\n",
       "    </tr>\n",
       "    <tr>\n",
       "      <th>nmiss</th>\n",
       "      <td>1.263600e+04</td>\n",
       "      <td>0.000000e+00</td>\n",
       "      <td>1.263600e+04</td>\n",
       "      <td>9882.000000</td>\n",
       "      <td>0.000000e+00</td>\n",
       "      <td>0.0</td>\n",
       "      <td>12636.0</td>\n",
       "      <td>12636.0</td>\n",
       "      <td>12636.0</td>\n",
       "      <td>12636.0</td>\n",
       "      <td>...</td>\n",
       "      <td>0.000000</td>\n",
       "      <td>0.000000</td>\n",
       "      <td>0.000000</td>\n",
       "      <td>0.000000</td>\n",
       "      <td>0.000000</td>\n",
       "      <td>0.000000</td>\n",
       "      <td>0.000000</td>\n",
       "      <td>0.000000</td>\n",
       "      <td>0.000000</td>\n",
       "      <td>0.000000</td>\n",
       "    </tr>\n",
       "  </tbody>\n",
       "</table>\n",
       "<p>9 rows × 113 columns</p>\n",
       "</div>"
      ],
      "text/plain": [
       "                 UNI           VOL           DOL           PA          BVOL  \\\n",
       "count   3.060000e+02  1.294200e+04  3.060000e+02  3060.000000  1.294200e+04   \n",
       "mean    5.727865e+04  2.125956e+03  5.727865e+04     0.784076  5.734591e+02   \n",
       "std     3.518760e+04  1.032223e+04  3.518760e+04     0.203692  1.448925e+03   \n",
       "min     2.567599e+03  0.000000e+00  2.567599e+03     0.123659  0.000000e+00   \n",
       "Median  6.249754e+04  0.000000e+00  6.249754e+04     0.834382  0.000000e+00   \n",
       "max     1.383610e+05  1.383610e+05  1.383610e+05     1.000000  1.268668e+04   \n",
       "range   1.357934e+05  1.383610e+05  1.357934e+05     0.876341  1.268668e+04   \n",
       "sum     1.752727e+07  2.751412e+07  1.752727e+07  2399.271553  7.421708e+06   \n",
       "nmiss   1.263600e+04  0.000000e+00  1.263600e+04  9882.000000  0.000000e+00   \n",
       "\n",
       "        VELOCITY    APPBX  ADWOFPBX   AFDPBX  AFWODPBX      ...       \\\n",
       "count    12942.0    306.0     306.0    306.0     306.0      ...        \n",
       "mean         1.0      0.0       0.0      0.0       0.0      ...        \n",
       "std          0.0      0.0       0.0      0.0       0.0      ...        \n",
       "min          1.0      0.0       0.0      0.0       0.0      ...        \n",
       "Median       1.0      0.0       0.0      0.0       0.0      ...        \n",
       "max          1.0      0.0       0.0      0.0       0.0      ...        \n",
       "range        0.0      0.0       0.0      0.0       0.0      ...        \n",
       "sum      12942.0      0.0       0.0      0.0       0.0      ...        \n",
       "nmiss        0.0  12636.0   12636.0  12636.0   12636.0      ...        \n",
       "\n",
       "               DFVM9         OFVM3         YFVM6        DFVM10        DFVM18  \\\n",
       "count   12942.000000  12942.000000  12942.000000  12942.000000  12942.000000   \n",
       "mean        0.098642      0.812691      0.143658      0.059221      0.764514   \n",
       "std         0.772217      7.388812      0.738861      0.334333      4.028209   \n",
       "min         0.000000      0.000000      0.000000      0.000000      0.000000   \n",
       "Median      0.000000      0.000000      0.000000      0.000000      0.000000   \n",
       "max         7.798175     79.020000      6.413937      2.341628     21.987426   \n",
       "range       7.798175     79.020000      6.413937      2.341628     21.987426   \n",
       "sum      1276.627133  10517.850000   1859.225784    766.437374   9894.341578   \n",
       "nmiss       0.000000      0.000000      0.000000      0.000000      0.000000   \n",
       "\n",
       "              DFVM20        SFVM10        SFVM19        TFVM21        SFVM11  \n",
       "count   12942.000000  12942.000000  12942.000000  12942.000000  12942.000000  \n",
       "mean        0.678092      0.922805      1.055802      4.860918      0.207879  \n",
       "std         3.572851      5.216165      5.695232     26.870270      1.784582  \n",
       "min         0.000000      0.000000      0.000000      0.000000      0.000000  \n",
       "Median      0.000000      0.000000      0.000000      0.000000      0.000000  \n",
       "max        19.501914     44.750634     37.836305    199.000000     17.891509  \n",
       "range      19.501914     44.750634     37.836305    199.000000     17.891509  \n",
       "sum      8775.861300  11942.944733  13664.190050  62910.000000   2690.375408  \n",
       "nmiss       0.000000      0.000000      0.000000      0.000000      0.000000  \n",
       "\n",
       "[9 rows x 113 columns]"
      ]
     },
     "execution_count": 7,
     "metadata": {},
     "output_type": "execute_result"
    }
   ],
   "source": [
    "#df = df[df['PRICE']!=0]                                              # Uncomment this line if treating 0 as NaN\n",
    "df_summary = df.describe(include='all')\n",
    "df_summary.loc['range'] = df_summary.loc['max']-df_summary.loc['min']   \n",
    "df_summary.loc['sum']=df.sum()\n",
    "df_summary.loc['nmiss']=df.isnull().sum()\n",
    "df_summary = df_summary.drop(labels=['25%', '75%'], axis=0)\n",
    "df_summary = df_summary.rename(index={'50%': 'Median'})\n",
    "#df_summary.to_csv('Summary of Model Data.csv')                     # Uncomment this line if want to save it to a .csv file\n",
    "df_summary"
   ]
  },
  {
   "cell_type": "markdown",
   "metadata": {},
   "source": [
    "Note: Without information on whether 0 means missing value or not, I consider 'NaN' and blank as missing values, and 0 means real value. Otherwise should specify df = df[df['PRICE']!=0]. As the example in code, 'PRICE' = 0 means free product."
   ]
  },
  {
   "cell_type": "markdown",
   "metadata": {},
   "source": [
    "6) Generate 2 plots VOL vs PRICE, VOL vs SEAS"
   ]
  },
  {
   "cell_type": "code",
   "execution_count": 8,
   "metadata": {
    "scrolled": true
   },
   "outputs": [
    {
     "data": {
      "image/png": "[encoded data removed]",
      "text/plain": [
       "<matplotlib.figure.Figure at 0xcb300b8>"
      ]
     },
     "metadata": {},
     "output_type": "display_data"
    },
    {
     "data": {
      "image/png": "[encoded data removed]",
      "text/plain": [
       "<matplotlib.figure.Figure at 0xd065cc0>"
      ]
     },
     "metadata": {},
     "output_type": "display_data"
    }
   ],
   "source": [
    "# a.'VOL vs. PRICE Plot\n",
    "plt.scatter(df['VOL'],  df['PRICE'])\n",
    "plt.title('VOL vs. PRICE Plot')\n",
    "plt.xlabel('VOL')\n",
    "plt.ylabel('PRICE')\n",
    "plt.show()\n",
    "# b.'VOL vs. SEAS Plot\n",
    "plt.scatter(Data['VOL'], Data['SEAS'])\n",
    "plt.title('VOL vs. SEAS Plot')\n",
    "plt.xlabel('VOL')\n",
    "plt.ylabel('SEAS')\n",
    "plt.show()"
   ]
  },
  {
   "cell_type": "markdown",
   "metadata": {},
   "source": [
    "Note: The scatter plots are as shown above. Note that there are many data points in 'VOL' that are 0 or very small, other than these values, there seems to be a linear relationship between 'VOL' and 'PRICE', 'VOL' and 'SEAS'."
   ]
  },
  {
   "cell_type": "markdown",
   "metadata": {},
   "source": [
    "7) Creat a new variable MCPRICE, representing mean centered price."
   ]
  },
  {
   "cell_type": "code",
   "execution_count": 11,
   "metadata": {},
   "outputs": [],
   "source": [
    "df.loc[:,('MCPRICE')]=df['PRICE']-df['PRICE'].mean()\n",
    "#df['MCPRICE']                               # Uncomment this line to view 'MCPRICE'"
   ]
  },
  {
   "cell_type": "markdown",
   "metadata": {},
   "source": [
    "8) Run a regression model with the specified modeling statement."
   ]
  },
  {
   "cell_type": "code",
   "execution_count": 12,
   "metadata": {},
   "outputs": [
    {
     "name": "stdout",
     "output_type": "stream",
     "text": [
      "                            OLS Regression Results                            \n",
      "==============================================================================\n",
      "Dep. Variable:                    VOL   R-squared:                       0.193\n",
      "Model:                            OLS   Adj. R-squared:                  0.188\n",
      "Method:                 Least Squares   F-statistic:                     39.99\n",
      "Date:                Mon, 27 Nov 2017   Prob (F-statistic):               0.00\n",
      "Time:                        14:48:18   Log-Likelihood:            -1.3659e+05\n",
      "No. Observations:               12942   AIC:                         2.733e+05\n",
      "Df Residuals:                   12864   BIC:                         2.739e+05\n",
      "Df Model:                          77                                         \n",
      "Covariance Type:            nonrobust                                         \n",
      "==============================================================================\n",
      "                 coef    std err          t      P>|t|      [0.025      0.975]\n",
      "------------------------------------------------------------------------------\n",
      "Intercept  -1.004e+04   6943.981     -1.446      0.148   -2.37e+04    3567.271\n",
      "XMAS       -2363.6995   1948.907     -1.213      0.225   -6183.846    1456.447\n",
      "EASTER     -1.615e+04   7023.436     -2.299      0.021   -2.99e+04   -2383.251\n",
      "NEWYEAR      452.9319   1347.565      0.336      0.737   -2188.496    3094.360\n",
      "seasindx    7124.6298   1094.547      6.509      0.000    4979.155    9270.104\n",
      "Fit1881     4.997e+04   2.81e+04      1.777      0.076   -5142.644    1.05e+05\n",
      "Fit1882     5.386e+04   2.85e+04      1.892      0.058   -1936.868     1.1e+05\n",
      "Fit1883     5.414e+04   2.92e+04      1.853      0.064   -3116.180    1.11e+05\n",
      "Fit1884     5.405e+04   3.05e+04      1.770      0.077   -5800.318    1.14e+05\n",
      "VTFVM1        -0.7021      0.558     -1.259      0.208      -1.796       0.391\n",
      "YFVM1        -21.3175     43.158     -0.494      0.621    -105.913      63.278\n",
      "TFVM15         0.4447      6.255      0.071      0.943     -11.815      12.705\n",
      "VTFVM6       -11.8119      3.376     -3.499      0.000     -18.430      -5.194\n",
      "VTFVM4        12.8407      3.448      3.724      0.000       6.082      19.599\n",
      "DFVM5      -1.577e+04    1.3e+04     -1.214      0.225   -4.12e+04    9689.545\n",
      "DFVM3        448.7087    305.204      1.470      0.142    -149.536    1046.953\n",
      "SFVM1       1.068e+04   7484.533      1.426      0.154   -3995.169    2.53e+04\n",
      "SFVM14      4303.4995   3017.019      1.426      0.154   -1610.305    1.02e+04\n",
      "TFVM18      -941.8888    613.036     -1.536      0.124   -2143.531     259.754\n",
      "OFVM1         -5.9665      9.385     -0.636      0.525     -24.363      12.430\n",
      "TFVM10        -9.7527      4.342     -2.246      0.025     -18.263      -1.242\n",
      "SFVM2          2.8458      1.717      1.658      0.097      -0.519       6.210\n",
      "TFVM14        -3.8784      4.708     -0.824      0.410     -13.107       5.350\n",
      "SFVM3         16.3561     19.241      0.850      0.395     -21.359      54.071\n",
      "DFVM4        -12.7698    271.491     -0.047      0.962    -544.933     519.394\n",
      "DFVM8      -1836.1428   2451.689     -0.749      0.454   -6641.816    2969.531\n",
      "SFVM17       -10.6673     65.625     -0.163      0.871    -139.302     117.967\n",
      "TFVM9         -0.1988     24.564     -0.008      0.994     -48.347      47.950\n",
      "TFVM16        -8.5403      7.510     -1.137      0.255     -23.260       6.180\n",
      "YFVM4        149.9533     99.080      1.513      0.130     -44.258     344.165\n",
      "VTFVM2         0.4811      0.622      0.774      0.439      -0.737       1.700\n",
      "YFVM2       -129.6381     84.765     -1.529      0.126    -295.790      36.514\n",
      "SFVM18      -383.7369    207.473     -1.850      0.064    -790.415      22.942\n",
      "TFVM11        34.8084     23.405      1.487      0.137     -11.069      80.686\n",
      "DFVM15       783.3691    464.514      1.686      0.092    -127.148    1693.886\n",
      "VTFVM7        -8.6302      4.705     -1.834      0.067     -17.853       0.593\n",
      "DFVM21        36.0790     33.720      1.070      0.285     -30.017     102.175\n",
      "DFVM1        -22.5575     44.912     -0.502      0.615    -110.591      65.476\n",
      "DFVM12        -2.2932      4.174     -0.549      0.583     -10.476       5.889\n",
      "DFVM6         15.0569     34.475      0.437      0.662     -52.519      82.632\n",
      "SFVM15       -18.7072      6.482     -2.886      0.004     -31.414      -6.001\n",
      "DFVM23       101.5227    230.979      0.440      0.660    -351.230     554.275\n",
      "SFVM4          1.7243      4.080      0.423      0.673      -6.273       9.721\n",
      "YFVM5       -407.7680   1015.593     -0.402      0.688   -2398.481    1582.945\n",
      "TFVM19        84.6769     35.373      2.394      0.017      15.341     154.012\n",
      "OFVM2         79.9780     81.809      0.978      0.328     -80.380     240.336\n",
      "DFVM16      8179.7170   6854.539      1.193      0.233   -5256.196    2.16e+04\n",
      "SFVM20     -2462.1828   2168.590     -1.135      0.256   -6712.942    1788.576\n",
      "TFVM12        -2.7998     12.695     -0.221      0.825     -27.684      22.085\n",
      "VTFVM5       -15.5098      3.098     -5.007      0.000     -21.582      -9.438\n",
      "SFVM5          3.8995     29.261      0.133      0.894     -53.457      61.256\n",
      "DFVM14       -27.0410    314.086     -0.086      0.931    -642.697     588.615\n",
      "TFVM22        -1.9512     14.061     -0.139      0.890     -29.513      25.610\n",
      "PFVM1        143.2863    147.855      0.969      0.333    -146.532     433.105\n",
      "SFVM6        -17.4545    155.920     -0.112      0.911    -323.081     288.172\n",
      "DFVM22       -36.1485     69.134     -0.523      0.601    -171.662      99.365\n",
      "PFVM2         95.3135    155.060      0.615      0.539    -208.627     399.254\n",
      "VTFVM3        -1.2655      0.626     -2.022      0.043      -2.492      -0.039\n",
      "YFVM3         41.8182    104.632      0.400      0.689    -163.276     246.912\n",
      "VTFVM8        -3.9334      3.541     -1.111      0.267     -10.874       3.007\n",
      "DFVM11     -8042.5438   2386.619     -3.370      0.001   -1.27e+04   -3364.416\n",
      "SFVM12         7.2541     29.960      0.242      0.809     -51.472      65.981\n",
      "SFVM13      8921.8543   2646.677      3.371      0.001    3733.974    1.41e+04\n",
      "SFVM7       3075.9086    922.680      3.334      0.001    1267.318    4884.499\n",
      "TFVM17      -950.5360    284.699     -3.339      0.001   -1508.589    -392.483\n",
      "DFVM24     -3529.3943   1037.740     -3.401      0.001   -5563.519   -1495.270\n",
      "DFVM13      8910.6986   2652.606      3.359      0.001    3711.196    1.41e+04\n",
      "DFVM2       8883.5684   2622.521      3.387      0.001    3743.038     1.4e+04\n",
      "DFVM7        158.1869     47.278      3.346      0.001      65.515     250.859\n",
      "SFVM16     -4910.6892   1492.477     -3.290      0.001   -7836.165   -1985.213\n",
      "SFVM8        137.4083     56.859      2.417      0.016      25.957     248.860\n",
      "TFVM20     -7500.2649   2226.525     -3.369      0.001   -1.19e+04   -3135.945\n",
      "DFVM19         9.4737     62.217      0.152      0.879    -112.480     131.428\n",
      "SFVM21       129.6266    873.307      0.148      0.882   -1582.184    1841.437\n",
      "TFVM13       -26.9529    191.907     -0.140      0.888    -403.120     349.214\n",
      "SFVM9          7.2320     22.430      0.322      0.747     -36.735      51.199\n",
      "DFVM17       130.3387    251.015      0.519      0.604    -361.687     622.365\n",
      "DFVM9       -141.4644    444.784     -0.318      0.750   -1013.308     730.379\n",
      "OFVM3         -5.3785     20.853     -0.258      0.796     -46.254      35.497\n",
      "YFVM6       1.424e+04   3907.648      3.644      0.000    6581.247    2.19e+04\n",
      "DFVM10      -584.0616    152.984     -3.818      0.000    -883.933    -284.191\n",
      "DFVM18      2211.1248    489.499      4.517      0.000    1251.634    3170.616\n",
      "DFVM20      1961.1739    434.165      4.517      0.000    1110.146    2812.202\n",
      "SFVM10     -3710.4040   1156.172     -3.209      0.001   -5976.672   -1444.136\n",
      "SFVM19     -2375.8034    674.500     -3.522      0.000   -3697.923   -1053.684\n",
      "TFVM21       218.2928    123.747      1.764      0.078     -24.270     460.855\n",
      "SFVM11      4993.2928   1226.716      4.070      0.000    2588.747    7397.838\n",
      "MCPRICE    -4268.1758   2451.639     -1.741      0.082   -9073.751     537.400\n",
      "==============================================================================\n",
      "Omnibus:                    16927.049   Durbin-Watson:                   0.231\n",
      "Prob(Omnibus):                  0.000   Jarque-Bera (JB):          2639070.672\n",
      "Skew:                           7.530   Prob(JB):                         0.00\n",
      "Kurtosis:                      71.317   Cond. No.                     1.15e+16\n",
      "==============================================================================\n",
      "\n",
      "Warnings:\n",
      "[1] Standard Errors assume that the covariance matrix of the errors is correctly specified.\n",
      "[2] The smallest eigenvalue is 3.11e-23. This might indicate that there are\n",
      "strong multicollinearity problems or that the design matrix is singular.\n"
     ]
    }
   ],
   "source": [
    "model_MCPRICE = smf.ols(\"\"\"VOL ~ XMAS + EASTER + NEWYEAR + seasindx + \n",
    "                             Fit1881 + Fit1882 + Fit1883 + Fit1884\n",
    "                             + VTFVM1 + YFVM1 + TFVM15 + VTFVM6 + VTFVM4 + DFVM5 + DFVM3 + SFVM1 + \n",
    "                             SFVM14 + TFVM18 + OFVM1 + TFVM10 + SFVM2 + TFVM14 + SFVM3 + DFVM4 + \n",
    "                             DFVM8 + SFVM17 + TFVM9 + TFVM16 + YFVM4 + VTFVM2 + YFVM2 + SFVM18 + \n",
    "                             TFVM11 + DFVM15 + VTFVM7 + DFVM21 + DFVM1 + DFVM12 + DFVM6 + SFVM15 + \n",
    "                             DFVM23 + SFVM4 + YFVM5 + TFVM19 + OFVM2 + DFVM16 + SFVM20 + TFVM12 + \n",
    "                             VTFVM5 + SFVM5 + DFVM14 + TFVM22 + PFVM1 + SFVM6 + DFVM22 + PFVM2 + VTFVM3 + \n",
    "                             YFVM3 + VTFVM8 + DFVM11 + SFVM12 + SFVM13 + SFVM7 + TFVM17 + DFVM24 + DFVM13 + \n",
    "                             DFVM2 + DFVM7 + SFVM16 + SFVM8 + TFVM20 + DFVM19 + SFVM21 + TFVM13 + SFVM9 +\n",
    "                             DFVM17 + DFVM9 + OFVM3 + YFVM6 + DFVM10 + DFVM18 + DFVM20 + SFVM10 + SFVM19 + \n",
    "                             TFVM21 + SFVM11 + MCPRICE\"\"\", data=df).fit()\n",
    "print model_MCPRICE.summary()                  # If run the code using python3, add parenthesis after print"
   ]
  },
  {
   "cell_type": "markdown",
   "metadata": {},
   "source": [
    "Note: From the OLS regression, the Adj. R-squared is only 0.1880, which indicates a linear model doesn't fit the data well. In addition, the p-values show that a lot of variables are not significant."
   ]
  },
  {
   "cell_type": "markdown",
   "metadata": {},
   "source": [
    "9) Write the model summary to a .csv file."
   ]
  },
  {
   "cell_type": "code",
   "execution_count": 13,
   "metadata": {},
   "outputs": [],
   "source": [
    "# Refer to http://www.statsmodels.org/dev/generated/statsmodels.regression.linear_model.RegressionResults.html\n",
    "result_df = pd.DataFrame()\n",
    "result_df = pd.DataFrame({'coef': model_MCPRICE.params,\n",
    "                         'std': model_MCPRICE.bse,\n",
    "                         'tvals': model_MCPRICE.tvalues,\n",
    "                         'pvals': model_MCPRICE.pvalues})\n",
    "with open('model_MCPRICE_summary.csv','w') as file:\n",
    "   file.write('The R-Squared of the model is ' + str(model_MCPRICE.rsquared) + '\\n')\n",
    "   file.write('The Adj. R-Squared of the model is ' + str(model_MCPRICE.rsquared_adj)+ '\\n')\n",
    "   result_df.to_csv(file)\n",
    "   file.close()"
   ]
  },
  {
   "cell_type": "markdown",
   "metadata": {},
   "source": [
    "10) Run the above model statement using PRICE in place of MCPRICE"
   ]
  },
  {
   "cell_type": "code",
   "execution_count": 14,
   "metadata": {
    "scrolled": true
   },
   "outputs": [
    {
     "name": "stdout",
     "output_type": "stream",
     "text": [
      "                            OLS Regression Results                            \n",
      "==============================================================================\n",
      "Dep. Variable:                    VOL   R-squared:                       0.193\n",
      "Model:                            OLS   Adj. R-squared:                  0.188\n",
      "Method:                 Least Squares   F-statistic:                     39.99\n",
      "Date:                Mon, 27 Nov 2017   Prob (F-statistic):               0.00\n",
      "Time:                        14:48:26   Log-Likelihood:            -1.3659e+05\n",
      "No. Observations:               12942   AIC:                         2.733e+05\n",
      "Df Residuals:                   12864   BIC:                         2.739e+05\n",
      "Df Model:                          77                                         \n",
      "Covariance Type:            nonrobust                                         \n",
      "==============================================================================\n",
      "                 coef    std err          t      P>|t|      [0.025      0.975]\n",
      "------------------------------------------------------------------------------\n",
      "Intercept   1903.0226    445.227      4.274      0.000    1030.312    2775.734\n",
      "XMAS       -2363.6995   1948.907     -1.213      0.225   -6183.846    1456.447\n",
      "EASTER     -1.615e+04   7023.436     -2.299      0.021   -2.99e+04   -2383.251\n",
      "NEWYEAR      452.9319   1347.565      0.336      0.737   -2188.496    3094.360\n",
      "seasindx    7124.6298   1094.547      6.509      0.000    4979.155    9270.104\n",
      "Fit1881     4.997e+04   2.81e+04      1.777      0.076   -5142.644    1.05e+05\n",
      "Fit1882     5.386e+04   2.85e+04      1.892      0.058   -1936.868     1.1e+05\n",
      "Fit1883     5.414e+04   2.92e+04      1.853      0.064   -3116.180    1.11e+05\n",
      "Fit1884     5.405e+04   3.05e+04      1.770      0.077   -5800.318    1.14e+05\n",
      "VTFVM1        -0.7021      0.558     -1.259      0.208      -1.796       0.391\n",
      "YFVM1        -21.3175     43.158     -0.494      0.621    -105.913      63.278\n",
      "TFVM15         0.4447      6.255      0.071      0.943     -11.815      12.705\n",
      "VTFVM6       -11.8119      3.376     -3.499      0.000     -18.430      -5.194\n",
      "VTFVM4        12.8407      3.448      3.724      0.000       6.082      19.599\n",
      "DFVM5      -1.577e+04    1.3e+04     -1.214      0.225   -4.12e+04    9689.545\n",
      "DFVM3        448.7087    305.204      1.470      0.142    -149.536    1046.953\n",
      "SFVM1       1.068e+04   7484.533      1.426      0.154   -3995.169    2.53e+04\n",
      "SFVM14      4303.4995   3017.019      1.426      0.154   -1610.305    1.02e+04\n",
      "TFVM18      -941.8888    613.036     -1.536      0.124   -2143.531     259.754\n",
      "OFVM1         -5.9665      9.385     -0.636      0.525     -24.363      12.430\n",
      "TFVM10        -9.7527      4.342     -2.246      0.025     -18.263      -1.242\n",
      "SFVM2          2.8458      1.717      1.658      0.097      -0.519       6.210\n",
      "TFVM14        -3.8784      4.708     -0.824      0.410     -13.107       5.350\n",
      "SFVM3         16.3561     19.241      0.850      0.395     -21.359      54.071\n",
      "DFVM4        -12.7698    271.491     -0.047      0.962    -544.933     519.394\n",
      "DFVM8      -1836.1428   2451.689     -0.749      0.454   -6641.816    2969.531\n",
      "SFVM17       -10.6673     65.625     -0.163      0.871    -139.302     117.967\n",
      "TFVM9         -0.1988     24.564     -0.008      0.994     -48.347      47.950\n",
      "TFVM16        -8.5403      7.510     -1.137      0.255     -23.260       6.180\n",
      "YFVM4        149.9533     99.080      1.513      0.130     -44.258     344.165\n",
      "VTFVM2         0.4811      0.622      0.774      0.439      -0.737       1.700\n",
      "YFVM2       -129.6381     84.765     -1.529      0.126    -295.790      36.514\n",
      "SFVM18      -383.7369    207.473     -1.850      0.064    -790.415      22.942\n",
      "TFVM11        34.8084     23.405      1.487      0.137     -11.069      80.686\n",
      "DFVM15       783.3691    464.514      1.686      0.092    -127.148    1693.886\n",
      "VTFVM7        -8.6302      4.705     -1.834      0.067     -17.853       0.593\n",
      "DFVM21        36.0790     33.720      1.070      0.285     -30.017     102.175\n",
      "DFVM1        -22.5575     44.912     -0.502      0.615    -110.591      65.476\n",
      "DFVM12        -2.2932      4.174     -0.549      0.583     -10.476       5.889\n",
      "DFVM6         15.0569     34.475      0.437      0.662     -52.519      82.632\n",
      "SFVM15       -18.7072      6.482     -2.886      0.004     -31.414      -6.001\n",
      "DFVM23       101.5227    230.979      0.440      0.660    -351.230     554.275\n",
      "SFVM4          1.7243      4.080      0.423      0.673      -6.273       9.721\n",
      "YFVM5       -407.7680   1015.593     -0.402      0.688   -2398.481    1582.945\n",
      "TFVM19        84.6769     35.373      2.394      0.017      15.341     154.012\n",
      "OFVM2         79.9780     81.809      0.978      0.328     -80.380     240.336\n",
      "DFVM16      8179.7170   6854.539      1.193      0.233   -5256.196    2.16e+04\n",
      "SFVM20     -2462.1828   2168.590     -1.135      0.256   -6712.942    1788.576\n",
      "TFVM12        -2.7998     12.695     -0.221      0.825     -27.684      22.085\n",
      "VTFVM5       -15.5098      3.098     -5.007      0.000     -21.582      -9.438\n",
      "SFVM5          3.8995     29.261      0.133      0.894     -53.457      61.256\n",
      "DFVM14       -27.0410    314.086     -0.086      0.931    -642.697     588.615\n",
      "TFVM22        -1.9512     14.061     -0.139      0.890     -29.513      25.610\n",
      "PFVM1        143.2863    147.855      0.969      0.333    -146.532     433.105\n",
      "SFVM6        -17.4545    155.920     -0.112      0.911    -323.081     288.172\n",
      "DFVM22       -36.1485     69.134     -0.523      0.601    -171.662      99.365\n",
      "PFVM2         95.3135    155.060      0.615      0.539    -208.627     399.254\n",
      "VTFVM3        -1.2655      0.626     -2.022      0.043      -2.492      -0.039\n",
      "YFVM3         41.8182    104.632      0.400      0.689    -163.276     246.912\n",
      "VTFVM8        -3.9334      3.541     -1.111      0.267     -10.874       3.007\n",
      "DFVM11     -8042.5438   2386.619     -3.370      0.001   -1.27e+04   -3364.416\n",
      "SFVM12         7.2541     29.960      0.242      0.809     -51.472      65.981\n",
      "SFVM13      8921.8543   2646.677      3.371      0.001    3733.974    1.41e+04\n",
      "SFVM7       3075.9086    922.680      3.334      0.001    1267.318    4884.499\n",
      "TFVM17      -950.5360    284.699     -3.339      0.001   -1508.589    -392.483\n",
      "DFVM24     -3529.3943   1037.740     -3.401      0.001   -5563.519   -1495.270\n",
      "DFVM13      8910.6986   2652.606      3.359      0.001    3711.196    1.41e+04\n",
      "DFVM2       8883.5684   2622.521      3.387      0.001    3743.038     1.4e+04\n",
      "DFVM7        158.1869     47.278      3.346      0.001      65.515     250.859\n",
      "SFVM16     -4910.6892   1492.477     -3.290      0.001   -7836.165   -1985.213\n",
      "SFVM8        137.4083     56.859      2.417      0.016      25.957     248.860\n",
      "TFVM20     -7500.2649   2226.525     -3.369      0.001   -1.19e+04   -3135.945\n",
      "DFVM19         9.4737     62.217      0.152      0.879    -112.480     131.428\n",
      "SFVM21       129.6266    873.307      0.148      0.882   -1582.184    1841.437\n",
      "TFVM13       -26.9529    191.907     -0.140      0.888    -403.120     349.214\n",
      "SFVM9          7.2320     22.430      0.322      0.747     -36.735      51.199\n",
      "DFVM17       130.3387    251.015      0.519      0.604    -361.687     622.365\n",
      "DFVM9       -141.4644    444.784     -0.318      0.750   -1013.308     730.379\n",
      "OFVM3         -5.3785     20.853     -0.258      0.796     -46.254      35.497\n",
      "YFVM6       1.424e+04   3907.648      3.644      0.000    6581.247    2.19e+04\n",
      "DFVM10      -584.0616    152.984     -3.818      0.000    -883.933    -284.191\n",
      "DFVM18      2211.1248    489.499      4.517      0.000    1251.634    3170.616\n",
      "DFVM20      1961.1739    434.165      4.517      0.000    1110.146    2812.202\n",
      "SFVM10     -3710.4040   1156.172     -3.209      0.001   -5976.672   -1444.136\n",
      "SFVM19     -2375.8034    674.500     -3.522      0.000   -3697.923   -1053.684\n",
      "TFVM21       218.2928    123.747      1.764      0.078     -24.270     460.855\n",
      "SFVM11      4993.2928   1226.716      4.070      0.000    2588.747    7397.838\n",
      "PRICE      -4268.1758   2451.639     -1.741      0.082   -9073.751     537.400\n",
      "==============================================================================\n",
      "Omnibus:                    16927.049   Durbin-Watson:                   0.231\n",
      "Prob(Omnibus):                  0.000   Jarque-Bera (JB):          2639070.672\n",
      "Skew:                           7.530   Prob(JB):                         0.00\n",
      "Kurtosis:                      71.317   Cond. No.                     1.15e+16\n",
      "==============================================================================\n",
      "\n",
      "Warnings:\n",
      "[1] Standard Errors assume that the covariance matrix of the errors is correctly specified.\n",
      "[2] The smallest eigenvalue is 3.11e-23. This might indicate that there are\n",
      "strong multicollinearity problems or that the design matrix is singular.\n"
     ]
    }
   ],
   "source": [
    "model_PRICE = smf.ols(\"\"\"VOL ~ XMAS + EASTER + NEWYEAR + seasindx + \n",
    "                             Fit1881 + Fit1882 + Fit1883 + Fit1884\n",
    "                             + VTFVM1 + YFVM1 + TFVM15 + VTFVM6 + VTFVM4 + DFVM5 + DFVM3 + SFVM1 + \n",
    "                             SFVM14 + TFVM18 + OFVM1 + TFVM10 + SFVM2 + TFVM14 + SFVM3 + DFVM4 + \n",
    "                             DFVM8 + SFVM17 + TFVM9 + TFVM16 + YFVM4 + VTFVM2 + YFVM2 + SFVM18 + \n",
    "                             TFVM11 + DFVM15 + VTFVM7 + DFVM21 + DFVM1 + DFVM12 + DFVM6 + SFVM15 + \n",
    "                             DFVM23 + SFVM4 + YFVM5 + TFVM19 + OFVM2 + DFVM16 + SFVM20 + TFVM12 + \n",
    "                             VTFVM5 + SFVM5 + DFVM14 + TFVM22 + PFVM1 + SFVM6 + DFVM22 + PFVM2 + VTFVM3 + \n",
    "                             YFVM3 + VTFVM8 + DFVM11 + SFVM12 + SFVM13 + SFVM7 + TFVM17 + DFVM24 + DFVM13 + \n",
    "                             DFVM2 + DFVM7 + SFVM16 + SFVM8 + TFVM20 + DFVM19 + SFVM21 + TFVM13 + SFVM9 +\n",
    "                             DFVM17 + DFVM9 + OFVM3 + YFVM6 + DFVM10 + DFVM18 + DFVM20 + SFVM10 + SFVM19 + \n",
    "                             TFVM21 + SFVM11 + PRICE\"\"\", data=df).fit()\n",
    "print model_PRICE.summary()             # If run the code using python3, add parenthesis after print"
   ]
  },
  {
   "cell_type": "markdown",
   "metadata": {},
   "source": [
    "Note: With PRICE instead of MCPRICE, the estimation results don't change much. Model still doesn't fit well."
   ]
  },
  {
   "cell_type": "markdown",
   "metadata": {},
   "source": [
    "11) Write the model summary to a separate csv file."
   ]
  },
  {
   "cell_type": "code",
   "execution_count": 15,
   "metadata": {
    "collapsed": true
   },
   "outputs": [],
   "source": [
    "result_df = pd.DataFrame()\n",
    "result_df = pd.DataFrame({'coef': model_PRICE.params,\n",
    "                         'std': model_PRICE.bse,\n",
    "                         'tvals': model_PRICE.tvalues,\n",
    "                         'pvals': model_PRICE.pvalues})\n",
    "with open('model_PRICE_summary.csv','w') as file:\n",
    "   file.write('The R-Squared of the model is ' + str(model_PRICE.rsquared) + '\\n')\n",
    "   file.write('The Adj. R-Squared of the model is ' + str(model_PRICE.rsquared_adj)+ '\\n')\n",
    "   result_df.to_csv(file)\n",
    "   file.close()"
   ]
  },
  {
   "cell_type": "markdown",
   "metadata": {},
   "source": [
    "  12) Do an analysis of the variables and identify the variables that can make the final model. Explain and interpret."
   ]
  },
  {
   "cell_type": "code",
   "execution_count": 16,
   "metadata": {
    "scrolled": false
   },
   "outputs": [
    {
     "data": {
      "image/png": "[encoded data removed]",
      "text/plain": [
       "<matplotlib.figure.Figure at 0xd05bbe0>"
      ]
     },
     "metadata": {},
     "output_type": "display_data"
    }
   ],
   "source": [
    "# Without details about the variables, it's hard to tell which variables should be considered from an economics point of view.\n",
    "# First we check if the dependent variable 'VOL'is normally distributed by plotting the histogram.\n",
    "plt.hist(df['VOL'].dropna(), bins=100)\n",
    "plt.show()"
   ]
  },
  {
   "cell_type": "markdown",
   "metadata": {},
   "source": [
    "Note: As we can see, the distribution is very skewed, there are too many values that are 0. Delete the data associated with VOL==0, so we model only the senario under which VOL is positive."
   ]
  },
  {
   "cell_type": "code",
   "execution_count": 17,
   "metadata": {
    "scrolled": true
   },
   "outputs": [
    {
     "data": {
      "image/png": "[encoded data removed]",
      "text/plain": [
       "<matplotlib.figure.Figure at 0xedcbc18>"
      ]
     },
     "metadata": {},
     "output_type": "display_data"
    }
   ],
   "source": [
    "df_nozero = df[df['VOL']!=0]\n",
    "plt.hist(df_nozero['VOL'].dropna(), bins=100)\n",
    "plt.show()"
   ]
  },
  {
   "cell_type": "markdown",
   "metadata": {},
   "source": [
    "Note: The distribution of 'VOL' is still right skewed, need to transform 'VOL', consider taking logs."
   ]
  },
  {
   "cell_type": "code",
   "execution_count": 18,
   "metadata": {
    "scrolled": true
   },
   "outputs": [
    {
     "data": {
      "image/png": "[encoded data removed]",
      "text/plain": [
       "<matplotlib.figure.Figure at 0xed0b320>"
      ]
     },
     "metadata": {},
     "output_type": "display_data"
    }
   ],
   "source": [
    "log_vol = np.log(df_nozero['VOL'])\n",
    "plt.hist(log_vol.dropna(), bins=100)\n",
    "plt.show()"
   ]
  },
  {
   "cell_type": "markdown",
   "metadata": {},
   "source": [
    "Note: 'log.vol' now is much closer to a normal distribution and thus more appropriate to be treated as the dependent variable. "
   ]
  },
  {
   "cell_type": "code",
   "execution_count": 20,
   "metadata": {
    "scrolled": false
   },
   "outputs": [
    {
     "name": "stdout",
     "output_type": "stream",
     "text": [
      "                            OLS Regression Results                            \n",
      "==============================================================================\n",
      "Dep. Variable:                log_vol   R-squared:                       0.464\n",
      "Model:                            OLS   Adj. R-squared:                  0.459\n",
      "Method:                 Least Squares   F-statistic:                     100.9\n",
      "Date:                Mon, 27 Nov 2017   Prob (F-statistic):               0.00\n",
      "Time:                        14:49:15   Log-Likelihood:                -4259.6\n",
      "No. Observations:                3060   AIC:                             8573.\n",
      "Df Residuals:                    3033   BIC:                             8736.\n",
      "Df Model:                          26                                         \n",
      "Covariance Type:            nonrobust                                         \n",
      "==============================================================================\n",
      "                 coef    std err          t      P>|t|      [0.025      0.975]\n",
      "------------------------------------------------------------------------------\n",
      "Intercept     12.1271     10.658      1.138      0.255      -8.770      33.025\n",
      "XMAS          -0.5698      0.321     -1.776      0.076      -1.199       0.059\n",
      "EASTER     -5.454e-11   4.95e-11     -1.102      0.271   -1.52e-10    4.25e-11\n",
      "NEWYEAR        1.6668      0.230      7.262      0.000       1.217       2.117\n",
      "seasindx       1.5979      0.181      8.808      0.000       1.242       1.954\n",
      "Fit1881        2.5915      2.849      0.910      0.363      -2.995       8.178\n",
      "Fit1882        2.6494      2.933      0.903      0.366      -3.101       8.400\n",
      "Fit1883        3.7363      3.100      1.205      0.228      -2.341       9.814\n",
      "Fit1884        3.1500      1.792      1.758      0.079      -0.364       6.664\n",
      "VTFVM1         0.0008      0.000      4.238      0.000       0.000       0.001\n",
      "YFVM1          0.0018      0.008      0.232      0.816      -0.013       0.017\n",
      "TFVM15      1.656e-11   1.47e-11      1.128      0.259   -1.22e-11    4.53e-11\n",
      "VTFVM6        -0.0005      0.001     -0.435      0.664      -0.003       0.002\n",
      "VTFVM4        -0.0018      0.001     -2.355      0.019      -0.003      -0.000\n",
      "DFVM5       1.734e-12   1.52e-12      1.140      0.255   -1.25e-12    4.72e-12\n",
      "DFVM3      -9.295e-12   8.23e-12     -1.129      0.259   -2.54e-11    6.84e-12\n",
      "SFVM1       2.733e-11   2.43e-11      1.126      0.260   -2.03e-11    7.49e-11\n",
      "SFVM14      1.878e-13   1.67e-13      1.122      0.262    -1.4e-13    5.16e-13\n",
      "TFVM18      1.003e-12    8.8e-13      1.140      0.254   -7.23e-13    2.73e-12\n",
      "OFVM1      -8.321e-14   7.29e-14     -1.141      0.254   -2.26e-13    5.98e-14\n",
      "TFVM10     -8.793e-14   7.64e-14     -1.151      0.250   -2.38e-13    6.18e-14\n",
      "SFVM2      -2.737e-13   2.41e-13     -1.137      0.255   -7.45e-13    1.98e-13\n",
      "TFVM14      1.034e-13   9.09e-14      1.138      0.255   -7.48e-14    2.82e-13\n",
      "SFVM3       3.017e-13   2.65e-13      1.139      0.255   -2.18e-13    8.21e-13\n",
      "DFVM4       3.453e-14   3.02e-14      1.145      0.252   -2.46e-14    9.37e-14\n",
      "DFVM8       9.679e-14   8.49e-14      1.140      0.254   -6.97e-14    2.63e-13\n",
      "SFVM17      -1.07e-14   9.62e-15     -1.113      0.266   -2.96e-14    8.16e-15\n",
      "TFVM9               0          0        nan        nan           0           0\n",
      "TFVM16              0          0        nan        nan           0           0\n",
      "YFVM4          0.0369      0.018      2.107      0.035       0.003       0.071\n",
      "VTFVM2         0.0003      0.000      2.738      0.006    8.95e-05       0.001\n",
      "YFVM2          0.1452      0.036      4.028      0.000       0.075       0.216\n",
      "SFVM18              0          0        nan        nan           0           0\n",
      "TFVM11              0          0        nan        nan           0           0\n",
      "DFVM15              0          0        nan        nan           0           0\n",
      "VTFVM7              0          0        nan        nan           0           0\n",
      "DFVM21              0          0        nan        nan           0           0\n",
      "DFVM1               0          0        nan        nan           0           0\n",
      "DFVM12              0          0        nan        nan           0           0\n",
      "DFVM6               0          0        nan        nan           0           0\n",
      "SFVM15              0          0        nan        nan           0           0\n",
      "DFVM23              0          0        nan        nan           0           0\n",
      "SFVM4               0          0        nan        nan           0           0\n",
      "YFVM5               0          0        nan        nan           0           0\n",
      "TFVM19              0          0        nan        nan           0           0\n",
      "OFVM2               0          0        nan        nan           0           0\n",
      "DFVM16              0          0        nan        nan           0           0\n",
      "SFVM20              0          0        nan        nan           0           0\n",
      "TFVM12              0          0        nan        nan           0           0\n",
      "VTFVM5        -0.0037      0.000     -8.754      0.000      -0.004      -0.003\n",
      "SFVM5               0          0        nan        nan           0           0\n",
      "DFVM14              0          0        nan        nan           0           0\n",
      "TFVM22              0          0        nan        nan           0           0\n",
      "PFVM1               0          0        nan        nan           0           0\n",
      "SFVM6          0.0375      0.017      2.244      0.025       0.005       0.070\n",
      "DFVM22        -0.9939      0.547     -1.816      0.069      -2.067       0.079\n",
      "PFVM2          0.9008      0.567      1.588      0.112      -0.212       2.013\n",
      "VTFVM3         0.0005      0.001      0.368      0.713      -0.002       0.003\n",
      "YFVM3          1.1274      0.599      1.882      0.060      -0.047       2.302\n",
      "VTFVM8              0          0        nan        nan           0           0\n",
      "DFVM11              0          0        nan        nan           0           0\n",
      "SFVM12        -0.0243      0.013     -1.912      0.056      -0.049       0.001\n",
      "SFVM13              0          0        nan        nan           0           0\n",
      "SFVM7               0          0        nan        nan           0           0\n",
      "TFVM17              0          0        nan        nan           0           0\n",
      "DFVM24        -0.9616      0.581     -1.654      0.098      -2.102       0.179\n",
      "DFVM13              0          0        nan        nan           0           0\n",
      "DFVM2               0          0        nan        nan           0           0\n",
      "DFVM7               0          0        nan        nan           0           0\n",
      "SFVM16              0          0        nan        nan           0           0\n",
      "SFVM8               0          0        nan        nan           0           0\n",
      "TFVM20              0          0        nan        nan           0           0\n",
      "DFVM19              0          0        nan        nan           0           0\n",
      "SFVM21              0          0        nan        nan           0           0\n",
      "TFVM13              0          0        nan        nan           0           0\n",
      "SFVM9               0          0        nan        nan           0           0\n",
      "DFVM17              0          0        nan        nan           0           0\n",
      "DFVM9               0          0        nan        nan           0           0\n",
      "OFVM3               0          0        nan        nan           0           0\n",
      "YFVM6          2.3783      1.352      1.759      0.079      -0.272       5.029\n",
      "DFVM10         0.0047      0.004      1.089      0.276      -0.004       0.013\n",
      "DFVM18         0.1158      0.043      2.717      0.007       0.032       0.199\n",
      "DFVM20         0.1027      0.038      2.717      0.007       0.029       0.177\n",
      "SFVM10        -0.1685      0.114     -1.481      0.139      -0.392       0.055\n",
      "SFVM19         0.6189      0.338      1.829      0.068      -0.045       1.282\n",
      "TFVM21        -0.1479      0.077     -1.930      0.054      -0.298       0.002\n",
      "SFVM11         0.6386      0.330      1.937      0.053      -0.008       1.285\n",
      "PRICE         -0.7656      1.173     -0.653      0.514      -3.066       1.534\n",
      "==============================================================================\n",
      "Omnibus:                      866.018   Durbin-Watson:                   0.199\n",
      "Prob(Omnibus):                  0.000   Jarque-Bera (JB):             2187.833\n",
      "Skew:                           1.536   Prob(JB):                         0.00\n",
      "Kurtosis:                       5.778   Cond. No.                     1.12e+16\n",
      "==============================================================================\n",
      "\n",
      "Warnings:\n",
      "[1] Standard Errors assume that the covariance matrix of the errors is correctly specified.\n",
      "[2] The smallest eigenvalue is 1.89e-23. This might indicate that there are\n",
      "strong multicollinearity problems or that the design matrix is singular.\n"
     ]
    }
   ],
   "source": [
    "model_logy_nozero = smf.ols(\"\"\"log_vol ~ XMAS + EASTER + NEWYEAR + seasindx + \n",
    "                             Fit1881 + Fit1882 + Fit1883 + Fit1884\n",
    "                             + VTFVM1 + YFVM1 + TFVM15 + VTFVM6 + VTFVM4 + DFVM5 + DFVM3 + SFVM1 + \n",
    "                             SFVM14 + TFVM18 + OFVM1 + TFVM10 + SFVM2 + TFVM14 + SFVM3 + DFVM4 + \n",
    "                             DFVM8 + SFVM17 + TFVM9 + TFVM16 + YFVM4 + VTFVM2 + YFVM2 + SFVM18 + \n",
    "                             TFVM11 + DFVM15 + VTFVM7 + DFVM21 + DFVM1 + DFVM12 + DFVM6 + SFVM15 + \n",
    "                             DFVM23 + SFVM4 + YFVM5 + TFVM19 + OFVM2 + DFVM16 + SFVM20 + TFVM12 + \n",
    "                             VTFVM5 + SFVM5 + DFVM14 + TFVM22 + PFVM1 + SFVM6 + DFVM22 + PFVM2 + VTFVM3 + \n",
    "                             YFVM3 + VTFVM8 + DFVM11 + SFVM12 + SFVM13 + SFVM7 + TFVM17 + DFVM24 + DFVM13 + \n",
    "                             DFVM2 + DFVM7 + SFVM16 + SFVM8 + TFVM20 + DFVM19 + SFVM21 + TFVM13 + SFVM9 +\n",
    "                             DFVM17 + DFVM9 + OFVM3 + YFVM6 + DFVM10 + DFVM18 + DFVM20 + SFVM10 + SFVM19 + \n",
    "                             TFVM21 + SFVM11 + PRICE\"\"\", data=df_nozero).fit()\n",
    "print model_logy_nozero.summary()             # If run the code using python3, add paren"
   ]
  },
  {
   "cell_type": "markdown",
   "metadata": {},
   "source": [
    "Note: After transformation, the model fits better as , but withing missing data issue and lack of significants of some estimates, we keep independent variables that are significant at 1% level."
   ]
  },
  {
   "cell_type": "code",
   "execution_count": 21,
   "metadata": {},
   "outputs": [
    {
     "name": "stdout",
     "output_type": "stream",
     "text": [
      "Index([u'Intercept', u'EASTER', u'seasindx', u'Fit1881', u'Fit1882',\n",
      "       u'Fit1883', u'Fit1884', u'VTFVM6', u'VTFVM4', u'TFVM10', u'SFVM2',\n",
      "       u'SFVM18', u'DFVM15', u'VTFVM7', u'SFVM15', u'TFVM19', u'VTFVM5',\n",
      "       u'VTFVM3', u'DFVM11', u'SFVM13', u'SFVM7', u'TFVM17', u'DFVM24',\n",
      "       u'DFVM13', u'DFVM2', u'DFVM7', u'SFVM16', u'SFVM8', u'TFVM20', u'YFVM6',\n",
      "       u'DFVM10', u'DFVM18', u'DFVM20', u'SFVM10', u'SFVM19', u'TFVM21',\n",
      "       u'SFVM11', u'PRICE'],\n",
      "      dtype='object')\n"
     ]
    }
   ],
   "source": [
    "# Print out variables that are significant at 1% level\n",
    "print result_df[result_df['pvals']<0.1].index\n",
    "#result_df[result_df['pvals']<0.1]              #Uncomment to view the complete results"
   ]
  },
  {
   "cell_type": "code",
   "execution_count": 22,
   "metadata": {},
   "outputs": [],
   "source": [
    "#Check correlation coefficents of these variables to see if multicolinearly is an issue.\n",
    "df_new = df_nozero[['VOL','XMAS', 'NEWYEAR', 'seasindx', 'Fit1884', 'VTFVM1', 'VTFVM4',\n",
    "       'YFVM4', 'VTFVM2', 'YFVM2', 'VTFVM5', 'SFVM6', 'DFVM22', 'YFVM3',\n",
    "       'SFVM12', 'DFVM24', 'YFVM6', 'DFVM18', 'DFVM20', 'SFVM19','TFVM21', 'SFVM11']]\n",
    "#df_new.corr()       # Uncomment this line to view the correlation table"
   ]
  },
  {
   "cell_type": "markdown",
   "metadata": {},
   "source": [
    "Note: From the correlation table, the variables are weakly correlated,thus no multicolinearly issue."
   ]
  },
  {
   "cell_type": "code",
   "execution_count": 23,
   "metadata": {},
   "outputs": [
    {
     "name": "stdout",
     "output_type": "stream",
     "text": [
      "                            OLS Regression Results                            \n",
      "==============================================================================\n",
      "Dep. Variable:                log_vol   R-squared:                       0.448\n",
      "Model:                            OLS   Adj. R-squared:                  0.444\n",
      "Method:                 Least Squares   F-statistic:                     123.2\n",
      "Date:                Mon, 27 Nov 2017   Prob (F-statistic):               0.00\n",
      "Time:                        14:49:29   Log-Likelihood:                -4304.6\n",
      "No. Observations:                3060   AIC:                             8651.\n",
      "Df Residuals:                    3039   BIC:                             8778.\n",
      "Df Model:                          20                                         \n",
      "Covariance Type:            nonrobust                                         \n",
      "==============================================================================\n",
      "                 coef    std err          t      P>|t|      [0.025      0.975]\n",
      "------------------------------------------------------------------------------\n",
      "Intercept      6.2839      0.085     73.826      0.000       6.117       6.451\n",
      "XMAS          -0.6968      0.241     -2.893      0.004      -1.169      -0.225\n",
      "NEWYEAR        1.2808      0.192      6.666      0.000       0.904       1.658\n",
      "seasindx       1.9850      0.147     13.508      0.000       1.697       2.273\n",
      "Fit1884        0.6849      0.134      5.100      0.000       0.422       0.948\n",
      "VTFVM1         0.0005   9.73e-05      4.697      0.000       0.000       0.001\n",
      "VTFVM4        -0.0020      0.000     -4.030      0.000      -0.003      -0.001\n",
      "YFVM4          0.0440      0.007      6.152      0.000       0.030       0.058\n",
      "VTFVM2         0.0005   9.12e-05      5.774      0.000       0.000       0.001\n",
      "YFVM2          0.1191      0.012     10.265      0.000       0.096       0.142\n",
      "VTFVM5        -0.0032      0.000     -7.825      0.000      -0.004      -0.002\n",
      "SFVM6          0.0312      0.017      1.845      0.065      -0.002       0.064\n",
      "DFVM22        -0.1229      0.039     -3.154      0.002      -0.199      -0.047\n",
      "YFVM3          0.2799      0.067      4.158      0.000       0.148       0.412\n",
      "SFVM12         0.0170      0.010      1.705      0.088      -0.003       0.037\n",
      "DFVM24        -0.1225      0.050     -2.433      0.015      -0.221      -0.024\n",
      "YFVM6          0.2740      0.089      3.092      0.002       0.100       0.448\n",
      "DFVM18         0.0683      0.010      6.897      0.000       0.049       0.088\n",
      "DFVM20         0.0606      0.009      6.897      0.000       0.043       0.078\n",
      "SFVM19         0.0392      0.038      1.019      0.308      -0.036       0.115\n",
      "TFVM21        -0.0329      0.007     -4.539      0.000      -0.047      -0.019\n",
      "SFVM11         0.1377      0.026      5.276      0.000       0.087       0.189\n",
      "==============================================================================\n",
      "Omnibus:                      806.079   Durbin-Watson:                   0.193\n",
      "Prob(Omnibus):                  0.000   Jarque-Bera (JB):             1971.722\n",
      "Skew:                           1.441   Prob(JB):                         0.00\n",
      "Kurtosis:                       5.675   Cond. No.                     5.72e+16\n",
      "==============================================================================\n",
      "\n",
      "Warnings:\n",
      "[1] Standard Errors assume that the covariance matrix of the errors is correctly specified.\n",
      "[2] The smallest eigenvalue is 7.28e-25. This might indicate that there are\n",
      "strong multicollinearity problems or that the design matrix is singular.\n"
     ]
    }
   ],
   "source": [
    "logy_nozero = smf.ols(\"\"\" log_vol~ XMAS+ NEWYEAR+ seasindx+ Fit1884+ VTFVM1+ VTFVM4+YFVM4+ \n",
    "                VTFVM2+ YFVM2+ VTFVM5+ SFVM6+ DFVM22+ YFVM3+ SFVM12+ DFVM24+ YFVM6+ DFVM18+ DFVM20+ SFVM19+\n",
    "                TFVM21+ SFVM11\"\"\", data=df_nozero).fit()\n",
    "print logy_nozero.summary()      "
   ]
  },
  {
   "cell_type": "markdown",
   "metadata": {},
   "source": [
    "Note: This model 'logy_nozero' now has a decent Adj. R-squared, AIC,BIC and except for SFVM19, all other variables are significant. Prob(Omnibus) is 0.0000, F-statistic is also significant indicating overall the model is fitted to the data.  Durbin-Watson is between 0 and 2, indicating there is positive auto-correlation in errors.This is usually found in time series data, without knowing the exact meaning of each variable, it's hard to model it in a more advanced way and the interpretation here is only statistical.\n",
    "#The end."
   ]
  }
 ],
 "metadata": {
  "anaconda-cloud": {},
  "kernelspec": {
   "display_name": "Python 2",
   "language": "python",
   "name": "python2"
  },
  "language_info": {
   "codemirror_mode": {
    "name": "ipython",
    "version": 2
   },
   "file_extension": ".py",
   "mimetype": "text/x-python",
   "name": "python",
   "nbconvert_exporter": "python",
   "pygments_lexer": "ipython2",
   "version": "2.7.14"
  }
 },
 "nbformat": 4,
 "nbformat_minor": 1
}
